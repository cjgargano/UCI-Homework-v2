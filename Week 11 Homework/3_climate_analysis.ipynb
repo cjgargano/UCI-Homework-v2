{
 "cells": [
  {
   "cell_type": "markdown",
   "metadata": {},
   "source": [
    "# Part 3"
   ]
  },
  {
   "cell_type": "code",
   "execution_count": 1,
   "metadata": {
    "collapsed": true
   },
   "outputs": [],
   "source": [
    "# Import Dependencies\n",
    "import sqlalchemy\n",
    "from sqlalchemy.ext.automap import automap_base\n",
    "from sqlalchemy.orm import Session\n",
    "from sqlalchemy import create_engine, inspect, func\n",
    "from sqlalchemy import Column, Integer, Float, Date, String, VARCHAR\n",
    "\n",
    "from time import time\n",
    "from datetime import datetime\n",
    "\n",
    "import pymysql\n",
    "pymysql.install_as_MySQLdb()\n",
    "\n",
    "# Import Dependencies for charting\n",
    "import pandas as pd\n",
    "import numpy as np\n",
    "\n",
    "import matplotlib\n",
    "from matplotlib import style\n",
    "style.use('seaborn')\n",
    "import matplotlib.pyplot as plt\n",
    "import seaborn as sns"
   ]
  },
  {
   "cell_type": "code",
   "execution_count": 2,
   "metadata": {
    "collapsed": true
   },
   "outputs": [],
   "source": [
    "# Create engine\n",
    "engine = create_engine('sqlite:///hawaii.db')"
   ]
  },
  {
   "cell_type": "code",
   "execution_count": 3,
   "metadata": {},
   "outputs": [
    {
     "data": {
      "text/plain": [
       "['measures', 'stations']"
      ]
     },
     "execution_count": 3,
     "metadata": {},
     "output_type": "execute_result"
    }
   ],
   "source": [
    "# Create the inspector and connect it to the engine\n",
    "inspector = inspect(engine)\n",
    "\n",
    "# Get table names from data base\n",
    "inspector.get_table_names()"
   ]
  },
  {
   "cell_type": "code",
   "execution_count": 4,
   "metadata": {
    "collapsed": true
   },
   "outputs": [],
   "source": [
    "Base = automap_base()"
   ]
  },
  {
   "cell_type": "code",
   "execution_count": 5,
   "metadata": {
    "collapsed": true
   },
   "outputs": [],
   "source": [
    "# Use the Base class to reflect the database tables\n",
    "Base.prepare(engine, reflect=True)"
   ]
  },
  {
   "cell_type": "code",
   "execution_count": 6,
   "metadata": {},
   "outputs": [
    {
     "data": {
      "text/plain": [
       "['measures', 'stations']"
      ]
     },
     "execution_count": 6,
     "metadata": {},
     "output_type": "execute_result"
    }
   ],
   "source": [
    "# Print all of the classes mapped to the Base\n",
    "Base.classes.keys()"
   ]
  },
  {
   "cell_type": "code",
   "execution_count": 7,
   "metadata": {
    "collapsed": true
   },
   "outputs": [],
   "source": [
    "Stations = Base.classes.stations\n",
    "Measures = Base.classes.measures"
   ]
  },
  {
   "cell_type": "code",
   "execution_count": 8,
   "metadata": {
    "collapsed": true
   },
   "outputs": [],
   "source": [
    "# Create Session\n",
    "session = Session(engine)"
   ]
  },
  {
   "cell_type": "code",
   "execution_count": null,
   "metadata": {
    "collapsed": true
   },
   "outputs": [],
   "source": [
    "### Precipitation Analysis #############################################################\n",
    "\n",
    "# Design a query to retrieve the last 12 months of precipitation data.\n",
    "\n",
    "# Select only the `date` and `prcp` values.\n",
    "\n",
    "# Load the query results into a Pandas DataFrame and set the index to the date column.\n",
    "\n",
    "# Plot the results using the DataFrame `plot` method.\n",
    " \n",
    "# Use Pandas to print the summary statistics for the precipitation data."
   ]
  },
  {
   "cell_type": "code",
   "execution_count": 11,
   "metadata": {
    "collapsed": true
   },
   "outputs": [],
   "source": [
    "#Query\n",
    "precip_qry = session.query(Measures.date, Measures.prcp).filter(Measures.date > \"2016-08-25\").\\\n",
    "        group_by(Measures.date).all()"
   ]
  },
  {
   "cell_type": "code",
   "execution_count": 13,
   "metadata": {},
   "outputs": [
    {
     "data": {
      "text/html": [
       "<div>\n",
       "<style>\n",
       "    .dataframe thead tr:only-child th {\n",
       "        text-align: right;\n",
       "    }\n",
       "\n",
       "    .dataframe thead th {\n",
       "        text-align: left;\n",
       "    }\n",
       "\n",
       "    .dataframe tbody tr th {\n",
       "        vertical-align: top;\n",
       "    }\n",
       "</style>\n",
       "<table border=\"1\" class=\"dataframe\">\n",
       "  <thead>\n",
       "    <tr style=\"text-align: right;\">\n",
       "      <th></th>\n",
       "      <th>date</th>\n",
       "      <th>precipitation</th>\n",
       "    </tr>\n",
       "  </thead>\n",
       "  <tbody>\n",
       "    <tr>\n",
       "      <th>0</th>\n",
       "      <td>2016-08-26</td>\n",
       "      <td>0.01</td>\n",
       "    </tr>\n",
       "    <tr>\n",
       "      <th>1</th>\n",
       "      <td>2016-08-27</td>\n",
       "      <td>0.12</td>\n",
       "    </tr>\n",
       "    <tr>\n",
       "      <th>2</th>\n",
       "      <td>2016-08-28</td>\n",
       "      <td>2.07</td>\n",
       "    </tr>\n",
       "    <tr>\n",
       "      <th>3</th>\n",
       "      <td>2016-08-29</td>\n",
       "      <td>0.90</td>\n",
       "    </tr>\n",
       "    <tr>\n",
       "      <th>4</th>\n",
       "      <td>2016-08-30</td>\n",
       "      <td>0.05</td>\n",
       "    </tr>\n",
       "  </tbody>\n",
       "</table>\n",
       "</div>"
      ],
      "text/plain": [
       "         date  precipitation\n",
       "0  2016-08-26           0.01\n",
       "1  2016-08-27           0.12\n",
       "2  2016-08-28           2.07\n",
       "3  2016-08-29           0.90\n",
       "4  2016-08-30           0.05"
      ]
     },
     "execution_count": 13,
     "metadata": {},
     "output_type": "execute_result"
    }
   ],
   "source": [
    "# Unpack `date` and `prcp` from results and save into separate lists\n",
    "prcp_date = [result[0] for result in precip_qry[:len(precip_qry)]]\n",
    "prcp = [result[1] for result in precip_qry[:len(precip_qry)]]\n",
    "\n",
    "#Combine lists into a dataframe, and sort by date\n",
    "prcp_df = pd.DataFrame({'date': prcp_date, 'precipitation': prcp})\n",
    "prcp_df = prcp_df.sort_values(by = ['date'])\n",
    "\n",
    "#print top 10 observations\n",
    "prcp_df.head()\n",
    "\n",
    "#Doesn't quite seem to be grouping correctly...not sure why"
   ]
  },
  {
   "cell_type": "code",
   "execution_count": 16,
   "metadata": {
    "scrolled": true
   },
   "outputs": [
    {
     "data": {
      "image/png": "[encoded data removed]",
      "text/plain": [
       "<matplotlib.figure.Figure at 0x220a69299b0>"
      ]
     },
     "metadata": {},
     "output_type": "display_data"
    }
   ],
   "source": [
    "#Create a barplot\n",
    "sns.set_style('darkgrid')\n",
    "fig1 = sns.barplot(x='date', y='precipitation', data=prcp_df, color='darkblue')\n",
    "fig1.set(xlabel='Date', ylabel='Precipitation', title='Figure 1: Precipitaion by Date')\n",
    "fig1.set_xticklabels(fig1.get_xticklabels(), rotation=90)\n",
    "#Need to figure out how to specify the number of points between ticks\n",
    "plt.show()"
   ]
  },
  {
   "cell_type": "code",
   "execution_count": null,
   "metadata": {
    "collapsed": true
   },
   "outputs": [],
   "source": [
    "### Station Analysis ##################################################################\n",
    "\n",
    "# Design a query to calculate the total number of stations.\n",
    "\n",
    "# Design a query to find the most active stations.\n",
    "#   List the stations and observation counts in descending order\n",
    "#   Which station has the highest number of observations?\n",
    "\n",
    "# Design a query to retrieve the last 12 months of temperature observation data (tobs).\n",
    "\n",
    "# Filter by the station with the highest number of observations.\n",
    "\n",
    "# Plot the results as a histogram with `bins=12`."
   ]
  },
  {
   "cell_type": "code",
   "execution_count": 17,
   "metadata": {},
   "outputs": [
    {
     "data": {
      "text/plain": [
       "9"
      ]
     },
     "execution_count": 17,
     "metadata": {},
     "output_type": "execute_result"
    }
   ],
   "source": [
    "#Design a query to calculate the total number of stations\n",
    "num_stations = len(session.query(func.count(Measures.station)).group_by(Measures.station).all())\n",
    "num_stations"
   ]
  },
  {
   "cell_type": "code",
   "execution_count": 19,
   "metadata": {},
   "outputs": [
    {
     "data": {
      "text/plain": [
       "[('USC00519281', 2772),\n",
       " ('USC00513117', 2696),\n",
       " ('USC00519397', 2685),\n",
       " ('USC00519523', 2572),\n",
       " ('USC00516128', 2484),\n",
       " ('USC00514830', 1937),\n",
       " ('USC00511918', 1932),\n",
       " ('USC00517948', 683),\n",
       " ('USC00518838', 342)]"
      ]
     },
     "execution_count": 19,
     "metadata": {},
     "output_type": "execute_result"
    }
   ],
   "source": [
    "# Design a query to find the most active stations, in descending order\n",
    "active_stations = session.query(Measures.station, func.count(Measures.station)).group_by(Measures.station).\\\n",
    "    order_by(func.count(Measures.station).desc()).all()\n",
    "active_stations"
   ]
  },
  {
   "cell_type": "code",
   "execution_count": 20,
   "metadata": {},
   "outputs": [
    {
     "name": "stdout",
     "output_type": "stream",
     "text": [
      "[('USC00519281', 2772), ('USC00513117', 2696), ('USC00519397', 2685), ('USC00519523', 2572), ('USC00516128', 2484), ('USC00514830', 1937), ('USC00511918', 1932), ('USC00517948', 683), ('USC00518838', 342)]\n",
      "Most active station: USC00519281\n",
      "# Observations:      2772\n"
     ]
    }
   ],
   "source": [
    "# List the stations and observation counts in descending order\n",
    "print(active_stations)\n",
    "\n",
    "most_active_station = active_stations[0][0]\n",
    "most_active_count = active_stations[0][1]\n",
    "\n",
    "# Which station has the highest number of observations?\n",
    "print(\"Most active station: \" + str(most_active_station))\n",
    "print(\"# Observations:      \" + str(most_active_count))"
   ]
  },
  {
   "cell_type": "code",
   "execution_count": 22,
   "metadata": {
    "collapsed": true
   },
   "outputs": [],
   "source": [
    "# Design a query to retrieve the last 12 months of temperature observation data (tobs)\n",
    "tobs_qry = session.query(Measures.station, Measures.tobs).filter(Measures.date > \"2016-08-25\").\\\n",
    "        group_by(Measures.date).all()"
   ]
  },
  {
   "cell_type": "code",
   "execution_count": 23,
   "metadata": {
    "collapsed": true
   },
   "outputs": [],
   "source": [
    "# Filter by the station with the highest number of observations.\n",
    "tobs_top_qry = session.query(Measures.station, Measures.tobs)\\\n",
    "        .filter(Measures.date > \"2016-08-25\", Measures.station == most_active_station)\\\n",
    "        .group_by(Measures.date).all()"
   ]
  },
  {
   "cell_type": "code",
   "execution_count": 24,
   "metadata": {},
   "outputs": [
    {
     "data": {
      "text/html": [
       "<div>\n",
       "<style>\n",
       "    .dataframe thead tr:only-child th {\n",
       "        text-align: right;\n",
       "    }\n",
       "\n",
       "    .dataframe thead th {\n",
       "        text-align: left;\n",
       "    }\n",
       "\n",
       "    .dataframe tbody tr th {\n",
       "        vertical-align: top;\n",
       "    }\n",
       "</style>\n",
       "<table border=\"1\" class=\"dataframe\">\n",
       "  <thead>\n",
       "    <tr style=\"text-align: right;\">\n",
       "      <th></th>\n",
       "      <th>temp</th>\n",
       "    </tr>\n",
       "  </thead>\n",
       "  <tbody>\n",
       "    <tr>\n",
       "      <th>0</th>\n",
       "      <td>80</td>\n",
       "    </tr>\n",
       "    <tr>\n",
       "      <th>1</th>\n",
       "      <td>75</td>\n",
       "    </tr>\n",
       "    <tr>\n",
       "      <th>2</th>\n",
       "      <td>73</td>\n",
       "    </tr>\n",
       "    <tr>\n",
       "      <th>3</th>\n",
       "      <td>78</td>\n",
       "    </tr>\n",
       "    <tr>\n",
       "      <th>4</th>\n",
       "      <td>77</td>\n",
       "    </tr>\n",
       "  </tbody>\n",
       "</table>\n",
       "</div>"
      ],
      "text/plain": [
       "   temp\n",
       "0    80\n",
       "1    75\n",
       "2    73\n",
       "3    78\n",
       "4    77"
      ]
     },
     "execution_count": 24,
     "metadata": {},
     "output_type": "execute_result"
    }
   ],
   "source": [
    "top_station_tobs = pd.DataFrame({'temp': [result[1] for result in tobs_top_qry[:len(tobs_top_qry)]]})\n",
    "top_station_tobs.head()"
   ]
  },
  {
   "cell_type": "code",
   "execution_count": 25,
   "metadata": {},
   "outputs": [
    {
     "data": {
      "image/png": "[encoded data removed]",
      "text/plain": [
       "<matplotlib.figure.Figure at 0x220a4827470>"
      ]
     },
     "metadata": {},
     "output_type": "display_data"
    }
   ],
   "source": [
    "# Plot the results as a histogram with `bins=12`.\n",
    "sns.set_style('darkgrid')\n",
    "fig2 = sns.distplot(top_station_tobs['temp'], bins=12, kde=False, color = 'darkblue');\n",
    "fig2.set(xlabel='Temperature', ylabel='Frequency', title = 'Figure 2: Histogram of Temperatures at Most Active Station')\n",
    "plt.show()"
   ]
  },
  {
   "cell_type": "code",
   "execution_count": null,
   "metadata": {
    "collapsed": true
   },
   "outputs": [],
   "source": [
    "### Temperature Analysis #############################################################\n",
    "\n",
    "# 1. Write a function called `calc_temps` that will accept a start date and end date in the format `%Y-%m-%d`\n",
    "#    and return the minimum, average, and maximum temperatures for that range of dates.\n",
    "\n",
    "# 2. Use the `calc_temps` function to calculate the min, avg, and max temperatures for your trip using the \n",
    "#    matching dates from the previous year (i.e. use \"2017-01-01\" if your trip start date was \"2018-01-01\")\n",
    "\n",
    "# 3. Plot the min, avg, and max temperature from your previous query as a bar chart.\n",
    "#   a. Use the average temperature as the bar height.\n",
    "#   b. Use the peak-to-peak (tmax-tmin) value as the y error bar (yerr).\n"
   ]
  },
  {
   "cell_type": "code",
   "execution_count": 26,
   "metadata": {
    "collapsed": true
   },
   "outputs": [],
   "source": [
    "start_date = \"2016-08-25\"\n",
    "end_date = \"2017-08-25\""
   ]
  },
  {
   "cell_type": "code",
   "execution_count": 27,
   "metadata": {
    "collapsed": true
   },
   "outputs": [],
   "source": [
    "def calc_temps(start_date, end_date):\n",
    "    \n",
    "    qry = session.query(Measures.date, Measures.tobs).filter(Measures.date >= start_date)\\\n",
    "        .filter(Measures.date <= end_date).group_by(Measures.date).all()\n",
    "    \n",
    "    df = pd.DataFrame({'temp': [result[1] for result in qry[:len(qry)]]})\n",
    "    \n",
    "    temp_min = df.min()\n",
    "    temp_avg = df.mean()\n",
    "    temp_max = df.max()\n",
    "    \n",
    "    return {'min_temp':temp_min, 'avg_temp':temp_avg ,'max_temp':temp_max}"
   ]
  },
  {
   "cell_type": "code",
   "execution_count": 28,
   "metadata": {},
   "outputs": [
    {
     "data": {
      "text/plain": [
       "{'avg_temp': temp    71.666667\n",
       " dtype: float64, 'max_temp': temp    78\n",
       " dtype: int64, 'min_temp': temp    66\n",
       " dtype: int64}"
      ]
     },
     "execution_count": 28,
     "metadata": {},
     "output_type": "execute_result"
    }
   ],
   "source": [
    "trip_temps = calc_temps('2017-05-04', '2017-05-18')\n",
    "trip_temps"
   ]
  },
  {
   "cell_type": "code",
   "execution_count": 29,
   "metadata": {},
   "outputs": [
    {
     "data": {
      "image/png": "[encoded data removed]",
      "text/plain": [
       "<matplotlib.figure.Figure at 0x220a57ca4a8>"
      ]
     },
     "metadata": {},
     "output_type": "display_data"
    }
   ],
   "source": [
    "# 3. Plot the min, avg, and max temperature from your previous query as a bar chart.\n",
    "#   a. Use the average temperature as the bar height.\n",
    "#   b. Use the peak-to-peak (tmax-tmin) value as the y error bar (yerr).\n",
    "\n",
    "fig3 = sns.barplot(y = trip_temps['avg_temp'], yerr = (trip_temps['max_temp']-trip_temps['min_temp']), alpha = 0.8)\n",
    "fig3.set(ylabel='Temperature', title='Figure 3: Average Trip Temp')\n",
    "plt.show()"
   ]
  }
 ],
 "metadata": {
  "kernelspec": {
   "display_name": "Python 3",
   "language": "python",
   "name": "python3"
  },
  "language_info": {
   "codemirror_mode": {
    "name": "ipython",
    "version": 3
   },
   "file_extension": ".py",
   "mimetype": "text/x-python",
   "name": "python",
   "nbconvert_exporter": "python",
   "pygments_lexer": "ipython3",
   "version": "3.6.3"
  }
 },
 "nbformat": 4,
 "nbformat_minor": 2
}
