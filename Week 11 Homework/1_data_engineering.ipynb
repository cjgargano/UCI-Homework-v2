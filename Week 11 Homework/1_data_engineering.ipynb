{
 "cells": [
  {
   "cell_type": "markdown",
   "metadata": {},
   "source": [
    "# Homework 11"
   ]
  },
  {
   "cell_type": "markdown",
   "metadata": {},
   "source": [
    "# Part 1"
   ]
  },
  {
   "cell_type": "code",
   "execution_count": null,
   "metadata": {
    "collapsed": true
   },
   "outputs": [],
   "source": [
    "### Import Dependencies\n",
    "import pandas as pd\n",
    "import numpy as np"
   ]
  },
  {
   "cell_type": "code",
   "execution_count": null,
   "metadata": {},
   "outputs": [],
   "source": [
    "#Read in the Stations data\n",
    "stations = pd.read_csv('Instructions/Resources/hawaii_stations.csv')\n",
    "stations.head()"
   ]
  },
  {
   "cell_type": "code",
   "execution_count": null,
   "metadata": {},
   "outputs": [],
   "source": [
    "#Read in the Measurements data\n",
    "measures = pd.read_csv('Instructions/Resources/hawaii_measurements.csv')\n",
    "measures.head()"
   ]
  },
  {
   "cell_type": "code",
   "execution_count": null,
   "metadata": {},
   "outputs": [],
   "source": [
    "# Find the # of rows in each data frame\n",
    "print('# of Rows in the Stations Data: ' + str(stations.count()))\n",
    "print('')\n",
    "print('# of Rows in the Measures Data: ' + str(measures.count()))"
   ]
  },
  {
   "cell_type": "code",
   "execution_count": null,
   "metadata": {
    "scrolled": true
   },
   "outputs": [],
   "source": [
    "### Inspect the Stations data for missing / NaN values...\n",
    "print ('# of NaN values in station data')\n",
    "print('Stations col: ' + str(stations['station'].isnull().values.sum()))\n",
    "print('Name col: ' + str(stations['name'].isnull().values.sum()))\n",
    "print('Latitude col: ' + str(stations['latitude'].isnull().values.sum()))\n",
    "print('Longitude col: ' + str(stations['longitude'].isnull().values.sum()))\n",
    "print('Elevation col: ' + str(stations['elevation'].isnull().values.sum()))\n",
    "\n",
    "#Stations data doesn't have any NaN values\n",
    "print(\"\")\n",
    "\n",
    "### Inspect the Measures data for missing / NaN values...\n",
    "print ('# of NaN values in station data')\n",
    "print('Stations col: ' + str(measures['station'].isnull().values.sum()))\n",
    "print('Date col: ' + str(measures['date'].isnull().values.sum()))\n",
    "print('Precip col: ' + str(measures['prcp'].isnull().values.sum()))\n",
    "print('Total_Obs col: ' + str(measures['tobs'].isnull().values.sum()))\n",
    "\n",
    "#Stations data doesn't have any NaN values"
   ]
  },
  {
   "cell_type": "code",
   "execution_count": null,
   "metadata": {
    "collapsed": true
   },
   "outputs": [],
   "source": [
    "# Given the relatively low amount of NaNs in the precip column compared to the total # of observations...\n",
    "# We will drop rows with NaN values from the data frame\n",
    "measures = measures.dropna()"
   ]
  },
  {
   "cell_type": "code",
   "execution_count": null,
   "metadata": {},
   "outputs": [],
   "source": [
    "measures.head()"
   ]
  },
  {
   "cell_type": "code",
   "execution_count": null,
   "metadata": {
    "collapsed": true
   },
   "outputs": [],
   "source": [
    "# Export the cleaned 'measures' data frame\n",
    "measures.to_csv('Instructions/Resources/cleaned_hawaii_measurements.csv', index = False)"
   ]
  },
  {
   "cell_type": "code",
   "execution_count": null,
   "metadata": {
    "collapsed": true
   },
   "outputs": [],
   "source": []
  }
 ],
 "metadata": {
  "kernelspec": {
   "display_name": "Python 3",
   "language": "python",
   "name": "python3"
  },
  "language_info": {
   "codemirror_mode": {
    "name": "ipython",
    "version": 3
   },
   "file_extension": ".py",
   "mimetype": "text/x-python",
   "name": "python",
   "nbconvert_exporter": "python",
   "pygments_lexer": "ipython3",
   "version": "3.6.3"
  }
 },
 "nbformat": 4,
 "nbformat_minor": 2
}
