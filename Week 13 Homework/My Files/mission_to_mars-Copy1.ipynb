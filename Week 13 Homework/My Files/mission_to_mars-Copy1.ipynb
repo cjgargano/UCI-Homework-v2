{
 "cells": [
  {
   "cell_type": "code",
   "execution_count": 1,
   "metadata": {
    "collapsed": true
   },
   "outputs": [],
   "source": [
    "# Import Dependencies\n",
    "import time\n",
    "from splinter import Browser\n",
    "from bs4 import BeautifulSoup\n",
    "import requests\n",
    "import pandas as pd\n",
    "from selenium import webdriver\n",
    "#from selenium.webdriver.common.keys import Keys"
   ]
  },
  {
   "cell_type": "code",
   "execution_count": 2,
   "metadata": {
    "collapsed": true
   },
   "outputs": [],
   "source": [
    "def init_browser():\n",
    "    executable_path = {\"executable_path\": \"C:/Users/chris/Desktop/UCI Apps/chromedriver\"}\n",
    "    return Browser(\"chrome\", **executable_path, headless=False)"
   ]
  },
  {
   "cell_type": "code",
   "execution_count": 3,
   "metadata": {
    "collapsed": true
   },
   "outputs": [],
   "source": [
    "def scrape():\n",
    "    browser = init_browser()\n",
    "\n",
    "    # 1) NASA Mars News Site: https://mars.nasa.gov/news/\n",
    "    # -----------------------------------------------------------------------------------------------------------\n",
    "    news_url = \"https://mars.nasa.gov/news/\"\n",
    "    browser.visit(news_url)\n",
    "    time.sleep(1)\n",
    "    \n",
    "    news_html = browser.html\n",
    "    news_soup = BeautifulSoup(news_html, \"html.parser\")\n",
    "\n",
    "    title = news_soup.find(\"div\", class_=\"content_title\").get_text()\n",
    "    par = news_soup.find(\"div\", class_=\"article_teaser_body\").get_text()\n",
    "    \n",
    "    news_dict = {\"news_title\": title,\n",
    "                \"news_par\": par}\n",
    "    \n",
    "    browser.quit()\n",
    "    # -----------------------------------------------------------------------------------------------------------\n",
    "\n",
    "    # 2) PL Mars Space Images - Featured Image: https://www.jpl.nasa.gov/spaceimages/?search=&category=Mars\n",
    "    # -----------------------------------------------------------------------------------------------------------\n",
    "    browser = init_browser()\n",
    "\n",
    "    img_url = \"https://www.jpl.nasa.gov/spaceimages/?search=&category=Mars\"\n",
    "    browser.visit(img_url)\n",
    "    time.sleep(1)\n",
    "\n",
    "    browser.click_link_by_partial_text(\"FULL IMAGE\")\n",
    "    time.sleep(5)\n",
    "    browser.click_link_by_partial_text(\"more info\")\n",
    "\n",
    "    img_html = browser.html\n",
    "    img_soup = BeautifulSoup(img_html, \"html.parser\")\n",
    "\n",
    "    partial_url = img_soup.find(\"figure\").find(\"img\")[\"src\"]\n",
    "    \n",
    "    featured_img_url = str(\"https://www.jpl.nasa.gov\" + partial_url)\n",
    "    featured_img_dict = {\"featured_image\": featured_img_url}\n",
    "    \n",
    "    browser.quit()\n",
    "    # -----------------------------------------------------------------------------------------------------------\n",
    "\n",
    "    # 3) Mars Weather (Twitter): https://twitter.com/marswxreport?lang=en\n",
    "    # -----------------------------------------------------------------------------------------------------------\n",
    "    browser = init_browser()\n",
    "\n",
    "    weather_url = \"https://twitter.com/marswxreport?lang=en\"\n",
    "    browser.visit(weather_url)\n",
    "    time.sleep(1)\n",
    "\n",
    "    weather_html = browser.html\n",
    "    twitter_soup = BeautifulSoup(weather_html, \"html.parser\")\n",
    "    \n",
    "    weather = twitter_soup.find(\"p\", class_=\"TweetTextSize TweetTextSize--normal js-tweet-text tweet-text\").get_text()    \n",
    "    weather_dict = {\"weather\": weather}\n",
    "    \n",
    "    browser.quit()\n",
    "    # -----------------------------------------------------------------------------------------------------------\n",
    "\n",
    "    # 4) Mars Facts: https://space-facts.com/mars/\n",
    "    # -----------------------------------------------------------------------------------------------------------\n",
    "    browser = init_browser()\n",
    "\n",
    "    url = \"https://space-facts.com/mars/\"\n",
    "    browser.visit(url)\n",
    "    time.sleep(1)\n",
    "\n",
    "    facts_html = browser.html\n",
    "    facts_soup = BeautifulSoup(facts_html, \"html.parser\")\n",
    "    \n",
    "    #Find all table headers (a.k.a. column 1):\n",
    "    col1 = facts_soup.find_all(\"td\", class_=\"column-1\")\n",
    "\n",
    "    tbl_headers = []\n",
    "    for i in range(0, len(col1)-1):\n",
    "        text = col1[i].get_text()\n",
    "        tbl_headers.append(text)\n",
    "    \n",
    "    #Find all table data (a.k.a. column 2):\n",
    "    col2 = facts_soup.find_all(\"td\", class_=\"column-2\")\n",
    "\n",
    "    tbl_data = []\n",
    "    for i in range(0, len(col2)-1):\n",
    "        text = col1[i].get_text()\n",
    "        tbl_data.append(text)\n",
    "\n",
    "    #Merge lists into a to pandas dataframe\n",
    "    df = pd.DataFrame({\"Fact\": tbl_headers,\n",
    "                       \"Value\": tbl_data})\n",
    "    \n",
    "    #Convert dataframe to HTML table; align text to the left\n",
    "    facts = df.to_html().replace('<tr style=\"text-align: right;\">','<tr style=\"text-align: left;\">')\n",
    "    facts_dict = {\"facts_table\":facts}\n",
    "    \n",
    "    browser.quit()\n",
    "    # -----------------------------------------------------------------------------------------------------------\n",
    "\n",
    "    # 5) Mars Hemispheres: https://astrogeology.usgs.gov/search/results?q=hemisphere+enhanced&k1=target&v1=Mars\n",
    "    # -----------------------------------------------------------------------------------------------------------\n",
    "    browser = init_browser()\n",
    "\n",
    "    url = \"https://astrogeology.usgs.gov/search/results?q=hemisphere+enhanced&k1=target&v1=Mars\"\n",
    "    browser.visit(url)\n",
    "    time.sleep(1)\n",
    "\n",
    "    html1 = browser.html\n",
    "    \n",
    "    #Find names of hemispheres and put them in a list\n",
    "    hemi_soup = BeautifulSoup(html1, \"html.parser\")\n",
    "    headers = hemi_soup.find_all(\"h3\")\n",
    "\n",
    "    hemisphere_image_urls = []\n",
    "\n",
    "    for i in range(0, (len(headers))):        \n",
    "        #Get hemisphere names\n",
    "        hemi = str(headers[i]).split(\"<h3>\")[1]\n",
    "        name = hemi[:(len(hemi)-14)]\n",
    "        \n",
    "        #Use hemisphere name to click on link and get image URL\n",
    "        browser.click_link_by_partial_text(name)\n",
    "        time.sleep(2)\n",
    "        img_soup = BeautifulSoup(browser.html, \"html.parser\")\n",
    "        hemi_url = img_soup.find(\"div\", class_=\"downloads\").find(\"a\")[\"href\"]\n",
    "        \n",
    "        #Add the hemisphere name and img url to a dictionary\n",
    "        temp_dict = {\"title\": name, \"img_url\": hemi_url}\n",
    "        \n",
    "        #Append the temp_dict to the list\n",
    "        hemisphere_image_urls.append(temp_dict)\n",
    "                \n",
    "        #tell the browser to hit the back button so it can get the next image URL\n",
    "        browser.back()\n",
    "        time.sleep(2)\n",
    "    \n",
    "    #pause (2000) # pause/sleeps for 2 seconds, then quits the browser\n",
    "    browser.quit()\n",
    "    # -----------------------------------------------------------------------------------------------------------\n",
    "\n",
    "    mars_dict = {\"mars_news\": news_dict,\n",
    "                \"mars_image\": featured_img_dict,\n",
    "                \"mars_weather\": weather_dict,\n",
    "                \"mars_facts\": facts_dict,\n",
    "                \"mars_hemispheres\": hemisphere_image_urls\n",
    "                }\n",
    "\n",
    "    return mars_dict"
   ]
  },
  {
   "cell_type": "code",
   "execution_count": 4,
   "metadata": {},
   "outputs": [],
   "source": [
    "mars_info = scrape()"
   ]
  },
  {
   "cell_type": "code",
   "execution_count": 6,
   "metadata": {},
   "outputs": [
    {
     "data": {
      "text/plain": [
       "{'facts_table': '<table border=\"1\" class=\"dataframe\">\\n  <thead>\\n    <tr style=\"text-align: left;\">\\n      <th></th>\\n      <th>Fact</th>\\n      <th>Value</th>\\n    </tr>\\n  </thead>\\n  <tbody>\\n    <tr>\\n      <th>0</th>\\n      <td>Equatorial Diameter:</td>\\n      <td>Equatorial Diameter:</td>\\n    </tr>\\n    <tr>\\n      <th>1</th>\\n      <td>Polar Diameter:</td>\\n      <td>Polar Diameter:</td>\\n    </tr>\\n    <tr>\\n      <th>2</th>\\n      <td>Mass:</td>\\n      <td>Mass:</td>\\n    </tr>\\n    <tr>\\n      <th>3</th>\\n      <td>Moons:</td>\\n      <td>Moons:</td>\\n    </tr>\\n    <tr>\\n      <th>4</th>\\n      <td>Orbit Distance:</td>\\n      <td>Orbit Distance:</td>\\n    </tr>\\n    <tr>\\n      <th>5</th>\\n      <td>Orbit Period:</td>\\n      <td>Orbit Period:</td>\\n    </tr>\\n    <tr>\\n      <th>6</th>\\n      <td>Surface Temperature:</td>\\n      <td>Surface Temperature:</td>\\n    </tr>\\n    <tr>\\n      <th>7</th>\\n      <td>First Record:</td>\\n      <td>First Record:</td>\\n    </tr>\\n  </tbody>\\n</table>'}"
      ]
     },
     "execution_count": 6,
     "metadata": {},
     "output_type": "execute_result"
    }
   ],
   "source": [
    "mars_info[\"mars_facts\"]"
   ]
  },
  {
   "cell_type": "code",
   "execution_count": null,
   "metadata": {
    "collapsed": true
   },
   "outputs": [],
   "source": [
    "    "
   ]
  }
 ],
 "metadata": {
  "kernelspec": {
   "display_name": "Python 3",
   "language": "python",
   "name": "python3"
  },
  "language_info": {
   "codemirror_mode": {
    "name": "ipython",
    "version": 3
   },
   "file_extension": ".py",
   "mimetype": "text/x-python",
   "name": "python",
   "nbconvert_exporter": "python",
   "pygments_lexer": "ipython3",
   "version": "3.6.3"
  }
 },
 "nbformat": 4,
 "nbformat_minor": 2
}
