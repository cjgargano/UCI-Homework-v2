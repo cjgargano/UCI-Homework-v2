{
 "cells": [
  {
   "cell_type": "code",
   "execution_count": 1,
   "metadata": {
    "collapsed": true
   },
   "outputs": [],
   "source": [
    "# Homework 13 - Web Scraping\n",
    "\n",
    "# Sites to Scrape:\n",
    "# 1) NASA Mars News Site: https://mars.nasa.gov/news/\n",
    "# 2) PL Mars Space Images - Featured Image: https://www.jpl.nasa.gov/spaceimages/?search=&category=Mars\n",
    "# 3) Mars Weather (Twitter): https://twitter.com/marswxreport?lang=en\n",
    "# 4) Mars Facts: https://space-facts.com/mars/\n",
    "# 5) Mars Hemispheres: https://astrogeology.usgs.gov/search/results?q=hemisphere+enhanced&k1=target&v1=Mars"
   ]
  },
  {
   "cell_type": "code",
   "execution_count": 2,
   "metadata": {
    "collapsed": true
   },
   "outputs": [],
   "source": [
    "# Import Dependencies\n",
    "import time\n",
    "from splinter import Browser\n",
    "from bs4 import BeautifulSoup\n",
    "import requests\n",
    "import pandas as pd\n",
    "from selenium import webdriver\n",
    "#from selenium.webdriver.common.keys import Keys"
   ]
  },
  {
   "cell_type": "code",
   "execution_count": 3,
   "metadata": {
    "collapsed": true
   },
   "outputs": [],
   "source": [
    "def init_browser():\n",
    "    executable_path = {\"executable_path\": \"C:/Users/chris/Desktop/UCI Apps/chromedriver\"}\n",
    "    return Browser(\"chrome\", **executable_path, headless=True)"
   ]
  },
  {
   "cell_type": "code",
   "execution_count": 4,
   "metadata": {
    "collapsed": true
   },
   "outputs": [],
   "source": [
    "# 1) NASA Mars News Site: https://mars.nasa.gov/news/\n",
    "# -----------------------------------------------------------------------------------------------------------\n",
    "# Scrape the NASA Mars News Site and collect the latest News Title and Paragragh Text.\n",
    "# Assign the text to variables that you can reference later.\n",
    "# Ex: news_title = \"NASA's Next Mars Mission to Investigate Interior of Red Planet\"\n",
    "# Ex: news_p = \"Preparation of NASA's next spacecraft to Mars, InSight, has ramped up this summer, on course for launch next May from Vandenberg Air Force Base in central California -- the first interplanetary launch in history from America's West Coast.\"\n",
    "# -----------------------------------------------------------------------------------------------------------\n",
    "def news_scrape():\n",
    "    browser = init_browser()\n",
    "\n",
    "    url = \"https://mars.nasa.gov/news/\"\n",
    "    browser.visit(url)\n",
    "    time.sleep(1)\n",
    "\n",
    "    #requests = requests.get(url)\n",
    "    \n",
    "    html = browser.html\n",
    "    news_soup = BeautifulSoup(html, \"html.parser\")\n",
    "\n",
    "    news_title = news_soup.find(\"div\", class_=\"content_title\").get_text()\n",
    "    news_par = news_soup.find(\"div\", class_=\"article_teaser_body\").get_text()\n",
    "    \n",
    "    news_dict = {\"title\": news_title,\n",
    "                \"par\": news_par}\n",
    "    \n",
    "    return news_dict"
   ]
  },
  {
   "cell_type": "code",
   "execution_count": null,
   "metadata": {
    "collapsed": true
   },
   "outputs": [],
   "source": []
  },
  {
   "cell_type": "code",
   "execution_count": 15,
   "metadata": {
    "collapsed": true
   },
   "outputs": [],
   "source": [
    "# 2) PL Mars Space Images - Featured Image: https://www.jpl.nasa.gov/spaceimages/?search=&category=Mars\n",
    "# -----------------------------------------------------------------------------------------------------------\n",
    "# Use splinter to navigate the site and find the image url for the current Featured Mars Image and assign \n",
    "# the url string to a variable called featured_image_url.\n",
    "# Make sure to find the image url to the full size .jpg image.\n",
    "# Make sure to save a complete url string for this image.\n",
    "# Ex: featured_image_url = 'https://www.jpl.nasa.gov/spaceimages/images/largesize/PIA16225_hires.jpg'\n",
    "# -----------------------------------------------------------------------------------------------------------\n",
    "def img_scrape():    \n",
    "    browser = init_browser()\n",
    "\n",
    "    url = \"https://www.jpl.nasa.gov/spaceimages/?search=&category=Mars\"\n",
    "    browser.visit(url)\n",
    "    time.sleep(1)\n",
    "\n",
    "    browser.click_link_by_partial_text(\"FULL IMAGE\")\n",
    "    time.sleep(5)\n",
    "    browser.click_link_by_partial_text(\"more info\")\n",
    "\n",
    "    html = browser.html\n",
    "    img_soup = BeautifulSoup(html, \"html.parser\")\n",
    "\n",
    "    partial_url = img_soup.find(\"figure\").find(\"img\")[\"src\"]\n",
    "    img_url = str(\"https://www.jpl.nasa.gov\" + partial_url)\n",
    "    \n",
    "    return img_url"
   ]
  },
  {
   "cell_type": "code",
   "execution_count": null,
   "metadata": {
    "collapsed": true
   },
   "outputs": [],
   "source": []
  },
  {
   "cell_type": "code",
   "execution_count": 16,
   "metadata": {
    "collapsed": true
   },
   "outputs": [],
   "source": [
    "# 3) Mars Weather (Twitter): https://twitter.com/marswxreport?lang=en\n",
    "# -----------------------------------------------------------------------------------------------------------\n",
    "# Visit the Mars Weather twitter account here and scrape the latest Mars weather tweet from the page.\n",
    "# Save the tweet text for the weather report as a variable called mars_weather.\n",
    "# Ex: mars_weather = 'Sol 1801 (Aug 30, 2017), Sunny, high -21C/-5F, low -80C/-112F, pressure at 8.82 hPa, daylight 06:09-17:55'\n",
    "# -----------------------------------------------------------------------------------------------------------\n",
    "def twitter_scrape():    \n",
    "    browser = init_browser()\n",
    "\n",
    "    url = \"https://twitter.com/marswxreport?lang=en\"\n",
    "    browser.visit(url)\n",
    "    time.sleep(1)\n",
    "\n",
    "    html = browser.html\n",
    "    twitter_soup = BeautifulSoup(html, \"html.parser\")\n",
    "    \n",
    "    mars_weather = twitter_soup.find(\"p\", class_=\"TweetTextSize TweetTextSize--normal js-tweet-text tweet-text\").get_text()    \n",
    "    \n",
    "    return mars_weather"
   ]
  },
  {
   "cell_type": "code",
   "execution_count": null,
   "metadata": {
    "collapsed": true
   },
   "outputs": [],
   "source": []
  },
  {
   "cell_type": "code",
   "execution_count": 7,
   "metadata": {
    "collapsed": true
   },
   "outputs": [],
   "source": [
    "# 4) Mars Facts: https://space-facts.com/mars/\n",
    "# -----------------------------------------------------------------------------------------------------------\n",
    "# Visit the Mars Facts webpage here and use Pandas to scrape the table containing facts about the planet \n",
    "# including Diameter, Mass, etc.\n",
    "# Use Pandas to convert the data to an HTML table string.\n",
    "# -----------------------------------------------------------------------------------------------------------\n",
    "def facts_scrape():    \n",
    "    browser = init_browser()\n",
    "\n",
    "    url = \"https://space-facts.com/mars/\"\n",
    "    browser.visit(url)\n",
    "    time.sleep(1)\n",
    "\n",
    "    html = browser.html\n",
    "    facts_soup = BeautifulSoup(html, \"html.parser\")\n",
    "    \n",
    "    #Find all table headers (a.k.a. column 1):\n",
    "    col1 = facts_soup.find_all(\"td\", class_=\"column-1\")\n",
    "\n",
    "    tbl_headers = []\n",
    "    for i in range(0, len(col1)-1):\n",
    "        text = col1[i].get_text()\n",
    "        tbl_headers.append(text)\n",
    "    \n",
    "    #Find all table data (a.k.a. column 2):\n",
    "    col2 = facts_soup.find_all(\"td\", class_=\"column-2\")\n",
    "\n",
    "    tbl_data = []\n",
    "    for i in range(0, len(col2)-1):\n",
    "        text = col1[i].get_text()\n",
    "        tbl_data.append(text)\n",
    "\n",
    "    #Merge lists into a to pandas dataframe\n",
    "    df = pd.DataFrame({\"Fact\": tbl_headers,\n",
    "                               \"Value\": tbl_data})\n",
    "    \n",
    "    #Convert dataframe to HTML table; align text to the left\n",
    "    mars_facts = df.to_html().replace('<tr style=\"text-align: right;\">','<tr style=\"text-align: left;\">')\n",
    "\n",
    "    return mars_facts\n"
   ]
  },
  {
   "cell_type": "code",
   "execution_count": null,
   "metadata": {
    "collapsed": true
   },
   "outputs": [],
   "source": []
  },
  {
   "cell_type": "code",
   "execution_count": 8,
   "metadata": {
    "collapsed": true
   },
   "outputs": [],
   "source": [
    "# 5) Mars Hemispheres: https://astrogeology.usgs.gov/search/results?q=hemisphere+enhanced&k1=target&v1=Mars\n",
    "# -----------------------------------------------------------------------------------------------------------\n",
    "# Visit the USGS Astrogeology site here to obtain high resolution images for each of Mar's hemispheres.\n",
    "# You will need to click each of the links to the hemispheres in order to find the image url to the full resolution image.\n",
    "# Save both the image url string for the full resolution hemipshere image, and the Hemisphere title containing the hemisphere name.\n",
    "# Use a Python dictionary to store the data using the keys img_url and title.\n",
    "# Append the dictionary with the image url string and the hemisphere title to a list.\n",
    "# This list will contain one dictionary for each hemisphere.\n",
    "# Example:\n",
    "# hemisphere_image_urls = [\n",
    "#    {\"title\": \"Valles Marineris Hemisphere\", \"img_url\": \"...\"},\n",
    "#    {\"title\": \"Cerberus Hemisphere\", \"img_url\": \"...\"},\n",
    "#    {\"title\": \"Schiaparelli Hemisphere\", \"img_url\": \"...\"},\n",
    "#    {\"title\": \"Syrtis Major Hemisphere\", \"img_url\": \"...\"},\n",
    "#]\n",
    "# -----------------------------------------------------------------------------------------------------------\n",
    "def hemi_scrape():    \n",
    "    browser = init_browser()\n",
    "\n",
    "    url = \"https://astrogeology.usgs.gov/search/results?q=hemisphere+enhanced&k1=target&v1=Mars\"\n",
    "    browser.visit(url)\n",
    "    time.sleep(1)\n",
    "\n",
    "    html1 = browser.html\n",
    "    \n",
    "    #Find names of hemispheres and put them in a list\n",
    "    hemi_soup = BeautifulSoup(html1, \"html.parser\")\n",
    "    headers = hemi_soup.find_all(\"h3\")\n",
    "\n",
    "    hemisphere_image_urls = []\n",
    "\n",
    "    for i in range(0, (len(headers))):        \n",
    "        #Get hemisphere names\n",
    "        hemi = str(headers[i]).split(\"<h3>\")[1]\n",
    "        name = hemi[:(len(hemi)-14)]\n",
    "        \n",
    "        #Use hemisphere name to click on link and get image URL\n",
    "        browser.click_link_by_partial_text(name)\n",
    "        img_soup = BeautifulSoup(broswer.html, \"html.parser\")\n",
    "        hemi_url = img_soup.find(\"div\", class_=\"downloads\").find(\"a\")[\"href\"]\n",
    "        \n",
    "        #Add the hemisphere name and img url to a dictionary\n",
    "        temp_dict = {\"title\": name, \"img_url\": hemi_url}\n",
    "        \n",
    "        #Append the temp_dict to the list\n",
    "        hemisphere_image_urls.append(temp_dict)\n",
    "                \n",
    "        #tell the browser to hit the back button so it can get the next image URL\n",
    "        browser.back()\n",
    "\n",
    "    return hemisphere_image_urls\n"
   ]
  },
  {
   "cell_type": "code",
   "execution_count": 10,
   "metadata": {},
   "outputs": [
    {
     "data": {
      "text/plain": [
       "{'par': 'Project could help spacecraft keep time more efficiently and allow ground stations to better track multiple satellites at once near crowded areas like Mars.',\n",
       " 'title': 'NASA Tests Atomic Clock for Deep Space Navigation'}"
      ]
     },
     "execution_count": 10,
     "metadata": {},
     "output_type": "execute_result"
    }
   ],
   "source": [
    "news_dict = news_scrape()\n",
    "news_dict"
   ]
  },
  {
   "cell_type": "code",
   "execution_count": 19,
   "metadata": {
    "collapsed": true
   },
   "outputs": [],
   "source": [
    "#featured_img_dict = {\"featured_image\": img_scrape()}\n",
    "#featured_img_dict"
   ]
  },
  {
   "cell_type": "code",
   "execution_count": 17,
   "metadata": {},
   "outputs": [
    {
     "data": {
      "text/plain": [
       "{'weather': 'Sol 1955 (Feb 04, 2018), Sunny, high -21C/-5F, low -77C/-106F, pressure at 7.45 hPa, daylight 05:41-17:27'}"
      ]
     },
     "execution_count": 17,
     "metadata": {},
     "output_type": "execute_result"
    }
   ],
   "source": [
    "weather_dict = {\"weather\": twitter_scrape()}\n",
    "weather_dict"
   ]
  },
  {
   "cell_type": "code",
   "execution_count": 21,
   "metadata": {},
   "outputs": [
    {
     "data": {
      "text/plain": [
       "'<table border=\"1\" class=\"dataframe\">\\n  <thead>\\n    <tr style=\"text-align: left;\">\\n      <th></th>\\n      <th>Fact</th>\\n      <th>Value</th>\\n    </tr>\\n  </thead>\\n  <tbody>\\n    <tr>\\n      <th>0</th>\\n      <td>Equatorial Diameter:</td>\\n      <td>Equatorial Diameter:</td>\\n    </tr>\\n    <tr>\\n      <th>1</th>\\n      <td>Polar Diameter:</td>\\n      <td>Polar Diameter:</td>\\n    </tr>\\n    <tr>\\n      <th>2</th>\\n      <td>Mass:</td>\\n      <td>Mass:</td>\\n    </tr>\\n    <tr>\\n      <th>3</th>\\n      <td>Moons:</td>\\n      <td>Moons:</td>\\n    </tr>\\n    <tr>\\n      <th>4</th>\\n      <td>Orbit Distance:</td>\\n      <td>Orbit Distance:</td>\\n    </tr>\\n    <tr>\\n      <th>5</th>\\n      <td>Orbit Period:</td>\\n      <td>Orbit Period:</td>\\n    </tr>\\n    <tr>\\n      <th>6</th>\\n      <td>Surface Temperature:</td>\\n      <td>Surface Temperature:</td>\\n    </tr>\\n    <tr>\\n      <th>7</th>\\n      <td>First Record:</td>\\n      <td>First Record:</td>\\n    </tr>\\n  </tbody>\\n</table>'"
      ]
     },
     "execution_count": 21,
     "metadata": {},
     "output_type": "execute_result"
    }
   ],
   "source": [
    "facts_dict = facts_scrape()\n",
    "facts_dict"
   ]
  },
  {
   "cell_type": "code",
   "execution_count": 22,
   "metadata": {},
   "outputs": [
    {
     "ename": "NameError",
     "evalue": "name 'browers' is not defined",
     "output_type": "error",
     "traceback": [
      "\u001b[1;31m---------------------------------------------------------------------------\u001b[0m",
      "\u001b[1;31mNameError\u001b[0m                                 Traceback (most recent call last)",
      "\u001b[1;32m<ipython-input-22-c98b7b780b22>\u001b[0m in \u001b[0;36m<module>\u001b[1;34m()\u001b[0m\n\u001b[1;32m----> 1\u001b[1;33m \u001b[0mhemispheres\u001b[0m \u001b[1;33m=\u001b[0m \u001b[0mhemi_scrape\u001b[0m\u001b[1;33m(\u001b[0m\u001b[1;33m)\u001b[0m\u001b[1;33m\u001b[0m\u001b[0m\n\u001b[0m\u001b[0;32m      2\u001b[0m \u001b[0mhemispheres\u001b[0m\u001b[1;33m\u001b[0m\u001b[0m\n",
      "\u001b[1;32m<ipython-input-8-cd6beedc425e>\u001b[0m in \u001b[0;36mhemi_scrape\u001b[1;34m()\u001b[0m\n\u001b[0;32m     37\u001b[0m         \u001b[1;31m#Use hemisphere name to click on link and get image URL\u001b[0m\u001b[1;33m\u001b[0m\u001b[1;33m\u001b[0m\u001b[0m\n\u001b[0;32m     38\u001b[0m         \u001b[0mbrowser\u001b[0m\u001b[1;33m.\u001b[0m\u001b[0mclick_link_by_partial_text\u001b[0m\u001b[1;33m(\u001b[0m\u001b[0mname\u001b[0m\u001b[1;33m)\u001b[0m\u001b[1;33m\u001b[0m\u001b[0m\n\u001b[1;32m---> 39\u001b[1;33m         \u001b[0mimg_soup\u001b[0m \u001b[1;33m=\u001b[0m \u001b[0mBeautifulSoup\u001b[0m\u001b[1;33m(\u001b[0m\u001b[0mbrowers\u001b[0m\u001b[1;33m.\u001b[0m\u001b[0mhtml\u001b[0m\u001b[1;33m,\u001b[0m \u001b[1;34m\"html.parser\"\u001b[0m\u001b[1;33m)\u001b[0m\u001b[1;33m\u001b[0m\u001b[0m\n\u001b[0m\u001b[0;32m     40\u001b[0m         \u001b[0mhemi_url\u001b[0m \u001b[1;33m=\u001b[0m \u001b[0mimg_soup\u001b[0m\u001b[1;33m.\u001b[0m\u001b[0mfind\u001b[0m\u001b[1;33m(\u001b[0m\u001b[1;34m\"div\"\u001b[0m\u001b[1;33m,\u001b[0m \u001b[0mclass_\u001b[0m\u001b[1;33m=\u001b[0m\u001b[1;34m\"downloads\"\u001b[0m\u001b[1;33m)\u001b[0m\u001b[1;33m.\u001b[0m\u001b[0mfind\u001b[0m\u001b[1;33m(\u001b[0m\u001b[1;34m\"a\"\u001b[0m\u001b[1;33m)\u001b[0m\u001b[1;33m[\u001b[0m\u001b[1;34m\"href\"\u001b[0m\u001b[1;33m]\u001b[0m\u001b[1;33m\u001b[0m\u001b[0m\n\u001b[0;32m     41\u001b[0m \u001b[1;33m\u001b[0m\u001b[0m\n",
      "\u001b[1;31mNameError\u001b[0m: name 'browers' is not defined"
     ]
    }
   ],
   "source": [
    "hemispheres = hemi_scrape()\n",
    "hemispheres"
   ]
  },
  {
   "cell_type": "code",
   "execution_count": null,
   "metadata": {
    "collapsed": true
   },
   "outputs": [],
   "source": []
  }
 ],
 "metadata": {
  "kernelspec": {
   "display_name": "Python 3",
   "language": "python",
   "name": "python3"
  },
  "language_info": {
   "codemirror_mode": {
    "name": "ipython",
    "version": 3
   },
   "file_extension": ".py",
   "mimetype": "text/x-python",
   "name": "python",
   "nbconvert_exporter": "python",
   "pygments_lexer": "ipython3",
   "version": "3.6.3"
  }
 },
 "nbformat": 4,
 "nbformat_minor": 2
}
