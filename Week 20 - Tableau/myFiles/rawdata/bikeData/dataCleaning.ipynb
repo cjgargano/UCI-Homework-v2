{
 "cells": [
  {
   "cell_type": "code",
   "execution_count": 1,
   "metadata": {
    "collapsed": true
   },
   "outputs": [],
   "source": [
    "# Import dependencies\n",
    "import pandas as pd"
   ]
  },
  {
   "cell_type": "code",
   "execution_count": 9,
   "metadata": {},
   "outputs": [
    {
     "name": "stdout",
     "output_type": "stream",
     "text": [
      "range(0, 4)\n"
     ]
    }
   ],
   "source": [
    "print(range())"
   ]
  },
  {
   "cell_type": "code",
   "execution_count": null,
   "metadata": {
    "collapsed": true
   },
   "outputs": [],
   "source": [
    "# Excluding 2013 data, so that we can have a 4-year analysis from 2014 Q1 through 2017 Q4\n",
    "\n",
    "for i in range(2014, 2017):\n",
    "    for j in range(1, 4):\n",
    "        filename = str('bikedata' + i + 'Q' + j + '.csv')\n",
    "        bikedata = pd.read_csv(filename)\n",
    "        bikedata = "
   ]
  },
  {
   "cell_type": "code",
   "execution_count": 6,
   "metadata": {},
   "outputs": [
    {
     "data": {
      "text/html": [
       "<div>\n",
       "<style>\n",
       "    .dataframe thead tr:only-child th {\n",
       "        text-align: right;\n",
       "    }\n",
       "\n",
       "    .dataframe thead th {\n",
       "        text-align: left;\n",
       "    }\n",
       "\n",
       "    .dataframe tbody tr th {\n",
       "        vertical-align: top;\n",
       "    }\n",
       "</style>\n",
       "<table border=\"1\" class=\"dataframe\">\n",
       "  <thead>\n",
       "    <tr style=\"text-align: right;\">\n",
       "      <th></th>\n",
       "      <th>24-Hour Passes Purchased (midnight to 11:59 pm)</th>\n",
       "      <th>24-Hour Passes Purchased (midnight to 11:59 pm)\t7-Day Passes Purchased (midnight to 11:59 pm)</th>\n",
       "      <th>7-Day Passes Purchased (midnight to 11:59 pm)</th>\n",
       "      <th>Annual Member Sign-Ups (midnight to 11:59 pm)</th>\n",
       "      <th>Cumulative trips (since launch):</th>\n",
       "      <th>Date</th>\n",
       "      <th>Miles traveled to date:</th>\n",
       "      <th>Miles traveled today (midnight to 11:59 pm)</th>\n",
       "      <th>Total Annual Members</th>\n",
       "      <th>Trips over the past 24-hours (midnight to 11:59pm)</th>\n",
       "    </tr>\n",
       "  </thead>\n",
       "  <tbody>\n",
       "    <tr>\n",
       "      <th>0</th>\n",
       "      <td>0.0</td>\n",
       "      <td>NaN</td>\n",
       "      <td>0.0</td>\n",
       "      <td>2043</td>\n",
       "      <td>9767</td>\n",
       "      <td>5/27/2013</td>\n",
       "      <td>21,533</td>\n",
       "      <td>21.533</td>\n",
       "      <td>17216</td>\n",
       "      <td>9767</td>\n",
       "    </tr>\n",
       "    <tr>\n",
       "      <th>1</th>\n",
       "      <td>0.0</td>\n",
       "      <td>NaN</td>\n",
       "      <td>0.0</td>\n",
       "      <td>2598</td>\n",
       "      <td>14982</td>\n",
       "      <td>5/28/2013</td>\n",
       "      <td>30,313</td>\n",
       "      <td>8.780</td>\n",
       "      <td>19816</td>\n",
       "      <td>5215</td>\n",
       "    </tr>\n",
       "    <tr>\n",
       "      <th>2</th>\n",
       "      <td>0.0</td>\n",
       "      <td>NaN</td>\n",
       "      <td>0.0</td>\n",
       "      <td>2167</td>\n",
       "      <td>25963</td>\n",
       "      <td>5/29/2013</td>\n",
       "      <td>52,211</td>\n",
       "      <td>21.898</td>\n",
       "      <td>21986</td>\n",
       "      <td>10981</td>\n",
       "    </tr>\n",
       "    <tr>\n",
       "      <th>3</th>\n",
       "      <td>0.0</td>\n",
       "      <td>NaN</td>\n",
       "      <td>0.0</td>\n",
       "      <td>1998</td>\n",
       "      <td>35813</td>\n",
       "      <td>5/30/2013</td>\n",
       "      <td>72,532</td>\n",
       "      <td>20.321</td>\n",
       "      <td>23985</td>\n",
       "      <td>9850</td>\n",
       "    </tr>\n",
       "    <tr>\n",
       "      <th>4</th>\n",
       "      <td>0.0</td>\n",
       "      <td>NaN</td>\n",
       "      <td>0.0</td>\n",
       "      <td>1630</td>\n",
       "      <td>45066</td>\n",
       "      <td>5/31/2013</td>\n",
       "      <td>92,775</td>\n",
       "      <td>20.243</td>\n",
       "      <td>25615</td>\n",
       "      <td>9253</td>\n",
       "    </tr>\n",
       "  </tbody>\n",
       "</table>\n",
       "</div>"
      ],
      "text/plain": [
       "   24-Hour Passes Purchased (midnight to 11:59 pm)  \\\n",
       "0                                              0.0   \n",
       "1                                              0.0   \n",
       "2                                              0.0   \n",
       "3                                              0.0   \n",
       "4                                              0.0   \n",
       "\n",
       "   24-Hour Passes Purchased (midnight to 11:59 pm)\\t7-Day Passes Purchased (midnight to 11:59 pm)  \\\n",
       "0                                                NaN                                                \n",
       "1                                                NaN                                                \n",
       "2                                                NaN                                                \n",
       "3                                                NaN                                                \n",
       "4                                                NaN                                                \n",
       "\n",
       "   7-Day Passes Purchased (midnight to 11:59 pm)  \\\n",
       "0                                            0.0   \n",
       "1                                            0.0   \n",
       "2                                            0.0   \n",
       "3                                            0.0   \n",
       "4                                            0.0   \n",
       "\n",
       "   Annual Member Sign-Ups (midnight to 11:59 pm)  \\\n",
       "0                                           2043   \n",
       "1                                           2598   \n",
       "2                                           2167   \n",
       "3                                           1998   \n",
       "4                                           1630   \n",
       "\n",
       "   Cumulative trips (since launch):       Date Miles traveled to date:  \\\n",
       "0                              9767  5/27/2013                  21,533   \n",
       "1                             14982  5/28/2013                  30,313   \n",
       "2                             25963  5/29/2013                  52,211   \n",
       "3                             35813  5/30/2013                  72,532   \n",
       "4                             45066  5/31/2013                  92,775   \n",
       "\n",
       "   Miles traveled today (midnight to 11:59 pm)  Total Annual Members  \\\n",
       "0                                       21.533                 17216   \n",
       "1                                        8.780                 19816   \n",
       "2                                       21.898                 21986   \n",
       "3                                       20.321                 23985   \n",
       "4                                       20.243                 25615   \n",
       "\n",
       "   Trips over the past 24-hours (midnight to 11:59pm)  \n",
       "0                                               9767   \n",
       "1                                               5215   \n",
       "2                                              10981   \n",
       "3                                               9850   \n",
       "4                                               9253   "
      ]
     },
     "execution_count": 6,
     "metadata": {},
     "output_type": "execute_result"
    }
   ],
   "source": [
    "# Excluding 2013 data, so that we can have a 4-year analysis from 2014 Q1 through 2017 Q4\n",
    "\n",
    "# Start by first reading in the  files from 2013\n",
    "bikedata = pd.read_csv('bikedata2013Q3.csv')\n",
    "temp = pd.read_csv('bikedata2013Q4.csv')\n",
    "\n",
    "# stack the temp dataframe below the original bikedata df\n",
    "bikedata = bikedata.append(temp)\n",
    "bikedata.head()\n"
   ]
  },
  {
   "cell_type": "code",
   "execution_count": null,
   "metadata": {
    "collapsed": true
   },
   "outputs": [],
   "source": [
    "# Using a nested for loop to read and merge CSV files\n",
    "for i in range(2013)\n",
    "\n",
    "data20181 = pd.read_csv('bikedata2018Q1.csv')\n",
    "data20174 = pd.read_csv('bikedata')"
   ]
  },
  {
   "cell_type": "code",
   "execution_count": null,
   "metadata": {
    "collapsed": true
   },
   "outputs": [],
   "source": []
  },
  {
   "cell_type": "code",
   "execution_count": null,
   "metadata": {
    "collapsed": true
   },
   "outputs": [],
   "source": []
  },
  {
   "cell_type": "code",
   "execution_count": null,
   "metadata": {
    "collapsed": true
   },
   "outputs": [],
   "source": []
  },
  {
   "cell_type": "code",
   "execution_count": null,
   "metadata": {
    "collapsed": true
   },
   "outputs": [],
   "source": []
  }
 ],
 "metadata": {
  "kernelspec": {
   "display_name": "Python 3",
   "language": "python",
   "name": "python3"
  },
  "language_info": {
   "codemirror_mode": {
    "name": "ipython",
    "version": 3
   },
   "file_extension": ".py",
   "mimetype": "text/x-python",
   "name": "python",
   "nbconvert_exporter": "python",
   "pygments_lexer": "ipython3",
   "version": "3.6.3"
  }
 },
 "nbformat": 4,
 "nbformat_minor": 2
}
